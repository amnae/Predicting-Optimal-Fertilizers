{
 "cells": [
  {
   "cell_type": "code",
   "execution_count": null,
   "id": "50d52e51",
   "metadata": {},
   "outputs": [
    {
     "name": "stdout",
     "output_type": "stream",
     "text": [
      "c:\\Users\\Amna\\Desktop\\Projects\\Fertilizer\n"
     ]
    }
   ],
   "source": [
    "import os \n",
    "print(os.getcwd())\n",
    "import xgboost as xgb\n",
    "from src.data.load_data import load_train_data\n",
    "from sklearn import linear_model\n",
    "import numpy as np\n",
    "from sklearn.preprocessing import PolynomialFeatures"
   ]
  },
  {
   "cell_type": "code",
   "execution_count": 19,
   "id": "220d59e2",
   "metadata": {},
   "outputs": [],
   "source": [
    "X_train, y_train, X_val, y_val, preprocessor, target_encoder = load_train_data()"
   ]
  },
  {
   "cell_type": "code",
   "execution_count": 20,
   "id": "6f5d780c",
   "metadata": {},
   "outputs": [
    {
     "name": "stdout",
     "output_type": "stream",
     "text": [
      "Best alpha: 1000.0\n",
      "Validation score: 0.0009812309856156126\n",
      "Best alpha: 100000.0\n",
      "Validation score: 0.0016966647476447383\n"
     ]
    }
   ],
   "source": [
    "reg = linear_model.RidgeCV(alphas=np.logspace(-6, 6, 13))\n",
    "\n",
    "reg.fit(X_train, y_train)\n",
    "print(\"Best alpha:\", reg.alpha_)\n",
    "print(\"Validation score:\", reg.score(X_val, y_val))\n",
    "regpred = reg.predict(X_val)\n",
    "\n",
    "\n",
    "\n",
    "from sklearn.pipeline import make_pipeline\n",
    "from sklearn.preprocessing import StandardScaler\n",
    "\n",
    "poly = PolynomialFeatures(degree=2)\n",
    "scaler = StandardScaler()\n",
    "\n",
    "poly_X_train = poly.fit_transform(X_train)\n",
    "poly_X_train = scaler.fit_transform(poly_X_train)\n",
    "poly_X_val = poly.transform(X_val)\n",
    "poly_X_val = scaler.transform(poly_X_val)\n",
    "\n",
    "polyreg = linear_model.RidgeCV(alphas=np.logspace(-6, 6, 13))\n",
    "polyreg.fit(poly_X_train, y_train)\n",
    "polyreg.score(poly_X_val, y_val)\n",
    "\n",
    "print(\"Best alpha:\", polyreg.alpha_)\n",
    "print(\"Validation score:\", polyreg.score(poly_X_val, y_val))\n"
   ]
  },
  {
   "cell_type": "code",
   "execution_count": 21,
   "id": "f37e68c6",
   "metadata": {},
   "outputs": [
    {
     "name": "stdout",
     "output_type": "stream",
     "text": [
      "[0 1 3 ... 2 4 0]\n",
      "[4 6 5 ... 0 0 4]\n"
     ]
    }
   ],
   "source": [
    "print(reg.predict(X_val).argmax(axis=1))\n",
    "print(y_val.argmax(axis=1))\n"
   ]
  },
  {
   "cell_type": "code",
   "execution_count": 22,
   "id": "cc5525e3",
   "metadata": {},
   "outputs": [
    {
     "name": "stdout",
     "output_type": "stream",
     "text": [
      "['__annotations__', '__class__', '__delattr__', '__dict__', '__dir__', '__doc__', '__eq__', '__format__', '__ge__', '__getattribute__', '__getstate__', '__gt__', '__hash__', '__init__', '__init_subclass__', '__le__', '__lt__', '__module__', '__ne__', '__new__', '__reduce__', '__reduce_ex__', '__repr__', '__setattr__', '__setstate__', '__sizeof__', '__sklearn_clone__', '__sklearn_tags__', '__str__', '__subclasshook__', '__weakref__', '_build_request_for_signature', '_check_X', '_check_get_feature_name_combiner', '_check_infrequent_enabled', '_compute_n_features_outs', '_compute_transformed_categories', '_doc_link_module', '_doc_link_template', '_doc_link_url_param_generator', '_drop_idx_after_grouping', '_fit', '_fit_infrequent_category_mapping', '_get_default_requests', '_get_doc_link', '_get_metadata_request', '_get_param_names', '_get_params_html', '_html_repr', '_identify_infrequent', '_infrequent_enabled', '_map_drop_idx_to_infrequent', '_map_infrequent_categories', '_n_features_outs', '_parameter_constraints', '_remove_dropped_categories', '_repr_html_', '_repr_html_inner', '_repr_mimebundle_', '_set_drop_idx', '_sklearn_auto_wrap_output_keys', '_transform', '_validate_params', 'categories', 'categories_', 'drop', 'drop_idx_', 'dtype', 'feature_name_combiner', 'fit', 'fit_transform', 'get_feature_names_out', 'get_metadata_routing', 'get_params', 'handle_unknown', 'infrequent_categories_', 'inverse_transform', 'max_categories', 'min_frequency', 'n_features_in_', 'set_output', 'set_params', 'sparse_output', 'transform']\n"
     ]
    },
    {
     "ename": "AttributeError",
     "evalue": "'OneHotEncoder' object has no attribute 'classes_'",
     "output_type": "error",
     "traceback": [
      "\u001b[31m---------------------------------------------------------------------------\u001b[39m",
      "\u001b[31mAttributeError\u001b[39m                            Traceback (most recent call last)",
      "\u001b[36mCell\u001b[39m\u001b[36m \u001b[39m\u001b[32mIn[22]\u001b[39m\u001b[32m, line 2\u001b[39m\n\u001b[32m      1\u001b[39m \u001b[38;5;28mprint\u001b[39m(\u001b[38;5;28mdir\u001b[39m(target_encoder))\n\u001b[32m----> \u001b[39m\u001b[32m2\u001b[39m \u001b[38;5;28mprint\u001b[39m(\u001b[33m\"\u001b[39m\u001b[33mClasses:\u001b[39m\u001b[33m\"\u001b[39m, \u001b[43mtarget_encoder\u001b[49m\u001b[43m.\u001b[49m\u001b[43mclasses_\u001b[49m)\n\u001b[32m      3\u001b[39m \u001b[38;5;28mprint\u001b[39m(\u001b[33m\"\u001b[39m\u001b[33mFeature names:\u001b[39m\u001b[33m\"\u001b[39m, preprocessor.get_feature_names_out())\n",
      "\u001b[31mAttributeError\u001b[39m: 'OneHotEncoder' object has no attribute 'classes_'"
     ]
    }
   ],
   "source": [
    "print(dir(target_encoder))\n",
    "print(\"Classes:\", target_encoder.classes_)\n",
    "print(\"Feature names:\", preprocessor.get_feature_names_out())"
   ]
  },
  {
   "cell_type": "code",
   "execution_count": null,
   "id": "e8c0da13",
   "metadata": {},
   "outputs": [
    {
     "ename": "ValueError",
     "evalue": "n_components cannot be larger than min(n_features, n_classes - 1).",
     "output_type": "error",
     "traceback": [
      "\u001b[31m---------------------------------------------------------------------------\u001b[39m",
      "\u001b[31mValueError\u001b[39m                                Traceback (most recent call last)",
      "\u001b[36mCell\u001b[39m\u001b[36m \u001b[39m\u001b[32mIn[8]\u001b[39m\u001b[32m, line 11\u001b[39m\n\u001b[32m      8\u001b[39m X_r = pca.fit(poly_X_train).transform(poly_X_train)\n\u001b[32m     10\u001b[39m lda = LinearDiscriminantAnalysis(n_components=\u001b[32m7\u001b[39m)\n\u001b[32m---> \u001b[39m\u001b[32m11\u001b[39m X_r2 = \u001b[43mlda\u001b[49m\u001b[43m.\u001b[49m\u001b[43mfit\u001b[49m\u001b[43m(\u001b[49m\u001b[43mpoly_X_train\u001b[49m\u001b[43m,\u001b[49m\u001b[43m \u001b[49m\u001b[43my_train\u001b[49m\u001b[43m)\u001b[49m.transform(poly_X_train)\n\u001b[32m     13\u001b[39m \u001b[38;5;66;03m# Percentage of variance explained for each components\u001b[39;00m\n\u001b[32m     14\u001b[39m \u001b[38;5;28mprint\u001b[39m(\n\u001b[32m     15\u001b[39m     \u001b[33m\"\u001b[39m\u001b[33mexplained variance ratio (first two components): \u001b[39m\u001b[38;5;132;01m%s\u001b[39;00m\u001b[33m\"\u001b[39m\n\u001b[32m     16\u001b[39m     % \u001b[38;5;28mstr\u001b[39m(pca.explained_variance_ratio_)\n\u001b[32m     17\u001b[39m )\n",
      "\u001b[36mFile \u001b[39m\u001b[32mc:\\Users\\Amna\\Desktop\\Projects\\Fertilizer\\.conda\\Lib\\site-packages\\sklearn\\base.py:1363\u001b[39m, in \u001b[36m_fit_context.<locals>.decorator.<locals>.wrapper\u001b[39m\u001b[34m(estimator, *args, **kwargs)\u001b[39m\n\u001b[32m   1356\u001b[39m     estimator._validate_params()\n\u001b[32m   1358\u001b[39m \u001b[38;5;28;01mwith\u001b[39;00m config_context(\n\u001b[32m   1359\u001b[39m     skip_parameter_validation=(\n\u001b[32m   1360\u001b[39m         prefer_skip_nested_validation \u001b[38;5;129;01mor\u001b[39;00m global_skip_validation\n\u001b[32m   1361\u001b[39m     )\n\u001b[32m   1362\u001b[39m ):\n\u001b[32m-> \u001b[39m\u001b[32m1363\u001b[39m     \u001b[38;5;28;01mreturn\u001b[39;00m \u001b[43mfit_method\u001b[49m\u001b[43m(\u001b[49m\u001b[43mestimator\u001b[49m\u001b[43m,\u001b[49m\u001b[43m \u001b[49m\u001b[43m*\u001b[49m\u001b[43margs\u001b[49m\u001b[43m,\u001b[49m\u001b[43m \u001b[49m\u001b[43m*\u001b[49m\u001b[43m*\u001b[49m\u001b[43mkwargs\u001b[49m\u001b[43m)\u001b[49m\n",
      "\u001b[36mFile \u001b[39m\u001b[32mc:\\Users\\Amna\\Desktop\\Projects\\Fertilizer\\.conda\\Lib\\site-packages\\sklearn\\discriminant_analysis.py:693\u001b[39m, in \u001b[36mLinearDiscriminantAnalysis.fit\u001b[39m\u001b[34m(self, X, y)\u001b[39m\n\u001b[32m    691\u001b[39m \u001b[38;5;28;01melse\u001b[39;00m:\n\u001b[32m    692\u001b[39m     \u001b[38;5;28;01mif\u001b[39;00m \u001b[38;5;28mself\u001b[39m.n_components > max_components:\n\u001b[32m--> \u001b[39m\u001b[32m693\u001b[39m         \u001b[38;5;28;01mraise\u001b[39;00m \u001b[38;5;167;01mValueError\u001b[39;00m(\n\u001b[32m    694\u001b[39m             \u001b[33m\"\u001b[39m\u001b[33mn_components cannot be larger than min(n_features, n_classes - 1).\u001b[39m\u001b[33m\"\u001b[39m\n\u001b[32m    695\u001b[39m         )\n\u001b[32m    696\u001b[39m     \u001b[38;5;28mself\u001b[39m._max_components = \u001b[38;5;28mself\u001b[39m.n_components\n\u001b[32m    698\u001b[39m \u001b[38;5;28;01mif\u001b[39;00m \u001b[38;5;28mself\u001b[39m.solver == \u001b[33m\"\u001b[39m\u001b[33msvd\u001b[39m\u001b[33m\"\u001b[39m:\n",
      "\u001b[31mValueError\u001b[39m: n_components cannot be larger than min(n_features, n_classes - 1)."
     ]
    }
   ],
   "source": [
    "import matplotlib.pyplot as plt\n",
    "\n",
    "from sklearn.decomposition import PCA\n",
    "from sklearn.discriminant_analysis import LinearDiscriminantAnalysis\n",
    "\n",
    "pca = PCA(n_components=2)\n",
    "X_r = pca.fit(poly_X_train).transform(X_train)\n",
    "\n",
    "lda = LinearDiscriminantAnalysis(n_components=5)\n",
    "X_r2 = lda.fit(poly_X_train, y_train).transform(poly_X_train)\n",
    "\n",
    "# Percentage of variance explained for each components\n",
    "print(\n",
    "    \"explained variance ratio (first two components): %s\"\n",
    "    % str(pca.explained_variance_ratio_)\n",
    ")\n",
    "\n",
    "plt.figure()\n",
    "colors = [\"navy\", \"turquoise\", \"darkorange\", \"blue\", \"green\", \"red\", \"yellow\", \"purple\"]\n",
    "lw = 2\n",
    "\n",
    "for color, i, target_name in zip(colors, range(len(target_encoder.classes_)), target_encoder.classes_):\n",
    "    plt.scatter(\n",
    "        X_r[y_train == i, 0], X_r[y_train == i, 1], color=color, alpha=0.8, lw=lw, label=target_name\n",
    "    )\n",
    "plt.legend(loc=\"best\", shadow=False, scatterpoints=1)\n",
    "plt.title(\"PCA of IRIS dataset\")\n",
    "\n",
    "plt.figure()\n",
    "for color, i, target_name in zip(colors, range(len(target_encoder.classes_)), target_encoder.classes_):\n",
    "    plt.scatter(\n",
    "        X_r2[y_train == i, 0], X_r2[y_train == i, 1], alpha=0.8, color=color, label=target_name\n",
    "    )\n",
    "plt.legend(loc=\"best\", shadow=False, scatterpoints=1)\n",
    "plt.title(\"LDA of IRIS dataset\")\n",
    "\n",
    "plt.show()"
   ]
  },
  {
   "cell_type": "code",
   "execution_count": null,
   "id": "d6d78a98",
   "metadata": {},
   "outputs": [],
   "source": [
    "print(range(len(target_encoder.classes_)))"
   ]
  },
  {
   "cell_type": "code",
   "execution_count": null,
   "id": "3567fca7",
   "metadata": {},
   "outputs": [
    {
     "name": "stdout",
     "output_type": "stream",
     "text": [
      "Decision Tree score: 0.15381333333333333\n"
     ]
    }
   ],
   "source": [
    "from sklearn import tree\n",
    "clf = tree.DecisionTreeClassifier(criterion='entropy', random_state=42, max_depth = 2)\n",
    "clf = clf.fit(X_train, y_train)\n",
    "clf.score(X_val, y_val)\n",
    "print(\"Decision Tree score:\", clf.score(X_val, y_val))\n",
    "#from sklearn import svm\n",
    "#svm_model = svm.SVC(kernel='rbf', random_state=42, verbose=1)\n",
    "#svm_model.fit(X_train, y_train)\n"
   ]
  },
  {
   "cell_type": "code",
   "execution_count": null,
   "id": "385fc310",
   "metadata": {},
   "outputs": [
    {
     "data": {
      "text/plain": [
       "53"
      ]
     },
     "execution_count": 8,
     "metadata": {},
     "output_type": "execute_result"
    }
   ],
   "source": [
    "clf.get_depth()"
   ]
  },
  {
   "cell_type": "code",
   "execution_count": null,
   "id": "fc13c9fc",
   "metadata": {},
   "outputs": [],
   "source": [
    "#svm_model.score(X_val, y_val)\n",
    "print(\"SVM Validation score:\", svm_model.score(X_val, y_val))"
   ]
  },
  {
   "cell_type": "code",
   "execution_count": null,
   "id": "076f545a",
   "metadata": {},
   "outputs": [
    {
     "data": {
      "text/plain": [
       "array([[ 0.62014424, -1.66056335, -0.5243208 , ...,  0.        ,\n",
       "         0.        ,  0.        ],\n",
       "       [-1.36715147,  0.14457471,  1.59529582, ...,  0.        ,\n",
       "         0.        ,  0.        ],\n",
       "       [ 1.11696817,  0.29500288,  0.83223384, ...,  0.        ,\n",
       "         0.        ,  0.        ],\n",
       "       ...,\n",
       "       [ 0.37173227,  0.44543105,  1.00180317, ...,  0.        ,\n",
       "         0.        ,  0.        ],\n",
       "       [ 1.36538013, -0.90842249, -0.86345946, ...,  0.        ,\n",
       "         0.        ,  0.        ],\n",
       "       [ 0.12332031,  0.7462874 ,  1.42572649, ...,  0.        ,\n",
       "         0.        ,  0.        ]], shape=(600000, 22))"
      ]
     },
     "execution_count": 9,
     "metadata": {},
     "output_type": "execute_result"
    }
   ],
   "source": [
    "X_train"
   ]
  },
  {
   "cell_type": "code",
   "execution_count": null,
   "id": "85c4eadc",
   "metadata": {},
   "outputs": [],
   "source": []
  }
 ],
 "metadata": {
  "kernelspec": {
   "display_name": "Python 3",
   "language": "python",
   "name": "python3"
  },
  "language_info": {
   "codemirror_mode": {
    "name": "ipython",
    "version": 3
   },
   "file_extension": ".py",
   "mimetype": "text/x-python",
   "name": "python",
   "nbconvert_exporter": "python",
   "pygments_lexer": "ipython3",
   "version": "3.11.13"
  }
 },
 "nbformat": 4,
 "nbformat_minor": 5
}
